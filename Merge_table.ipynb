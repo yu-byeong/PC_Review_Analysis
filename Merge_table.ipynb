{
  "nbformat": 4,
  "nbformat_minor": 0,
  "metadata": {
    "colab": {
      "name": "Merge_table.ipynb",
      "provenance": []
    },
    "kernelspec": {
      "name": "python3",
      "display_name": "Python 3"
    }
  },
  "cells": [
    {
      "cell_type": "code",
      "metadata": {
        "id": "_4_g_-ffkze6",
        "outputId": "8a4d3ff9-066c-4062-9ca8-460ce4fafa06",
        "colab": {
          "base_uri": "https://localhost:8080/",
          "height": 36
        }
      },
      "source": [
        "from google.colab import drive\n",
        "\n",
        "drive.mount(\"/content/gdrive\")"
      ],
      "execution_count": null,
      "outputs": [
        {
          "output_type": "stream",
          "text": [
            "Mounted at /content/gdrive\n"
          ],
          "name": "stdout"
        }
      ]
    },
    {
      "cell_type": "code",
      "metadata": {
        "id": "5r6u80abmnhL"
      },
      "source": [
        "import pandas as pd\n",
        "\n",
        "elem_list = [\"case\", \"cooler\", \"cpu\", \"gpu\", \"mainboard\", \"power\", \"ram\", \"ssd_hdd\"]\n",
        "\n",
        "for elem in elem_list:\n",
        "    #file_url = f\"/content/gdrive/My Drive/워밍업프로젝트2/cpu_proba_data/{elem}_add_proba.csv\"\n",
        "    file_url = f\"{elem}_proba.csv\"\n",
        "    data = pd.read_csv(file_url)\n",
        "    data = data.drop(\"Unnamed: 0\", axis=1)\n",
        "\n",
        "    avg_table = data.groupby(\"product_id\").score.sum() / data.groupby(\"product_id\").score.count()\n",
        "    avg_table = pd.DataFrame(avg_table).reset_index(drop=False)\n",
        "\n",
        "    save_url = f\"{elem}_avg_proba.csv\"\n",
        "    avg_table.to_csv(save_url, index=False)"
      ],
      "execution_count": null,
      "outputs": []
    },
    {
      "cell_type": "code",
      "metadata": {
        "id": "5Ccm3qpLoYor"
      },
      "source": [
        "\n",
        "elem_list = [\"case\", \"cooler\", \"cpu\", \"gpu\", \"mainboard\", \"power\", \"ram\", \"ssd_hdd\"]\n",
        "\n",
        "for elem in elem_list:\n",
        "    #file_url1 = f\"/content/gdrive/My Drive/워밍업프로젝트2/cpu_proba_data/{elem}_avg_proba.csv\"\n",
        "    file_url1 = f\"{elem}_avg_proba.csv\"\n",
        "    data1 = pd.read_csv(file_url1)\n",
        "    #file_url2 = f\"/content/gdrive/My Drive/워밍업프로젝트2/cpu_proba_data/{elem}_data.csv\"\n",
        "    file_url2 = f\"{elem}_data.csv\"\n",
        "    data2 = pd.read_csv(file_url2)\n",
        "    total_data = pd.merge(data1, data2, on=\"product_id\")\n",
        "\n",
        "    save_url = f\"{elem}_total_data.csv\"\n",
        "    total_data.to_csv(save_url, index=False)"
      ],
      "execution_count": null,
      "outputs": []
    },
    {
      "cell_type": "code",
      "metadata": {
        "id": "WEI_DN0kyLvh",
        "outputId": "17e98620-86f5-4b11-faf4-6a8b7b36053f",
        "colab": {
          "base_uri": "https://localhost:8080/",
          "height": 34
        }
      },
      "source": [
        "from sklearn.preprocessing import StandardScaler\n",
        "\n",
        "elem_list = [\"case\", \"cooler\", \"cpu\", \"gpu\", \"mainboard\", \"power\", \"ram\", \"ssd_hdd\"]\n",
        "\n",
        "for elem in elem_list:\n",
        "    file_url = f\"{elem}_total_data.csv\"\n",
        "    data = pd.read_csv(file_url)\n",
        "    stc = StandardScaler()\n",
        "    train = stc.fit(data[[\"price(원)\"]])\n",
        "    data[\"price_stc\"] = stc.transform(data[[\"price(원)\"]])\n",
        "\n",
        "    save_url = f\"{elem}_merge_data.csv\"\n",
        "    data.to_csv(save_url)\n",
        "\n",
        "print(\"complete ~!\")"
      ],
      "execution_count": null,
      "outputs": [
        {
          "output_type": "stream",
          "text": [
            "complete ~!\n"
          ],
          "name": "stdout"
        }
      ]
    }
  ]
}